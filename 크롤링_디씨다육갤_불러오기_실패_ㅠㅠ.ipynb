{
  "nbformat": 4,
  "nbformat_minor": 0,
  "metadata": {
    "colab": {
      "name": "크롤링 디씨다육갤 불러오기 실패 ㅠㅠ.ipynb",
      "provenance": [],
      "collapsed_sections": [],
      "mount_file_id": "16ZtQPIwh1lHk6BuKkkhfkO8-Hsryel3v",
      "authorship_tag": "ABX9TyOEtsQkTpwz2w6hfJoXAqHy",
      "include_colab_link": true
    },
    "kernelspec": {
      "name": "python3",
      "display_name": "Python 3"
    },
    "language_info": {
      "name": "python"
    }
  },
  "cells": [
    {
      "cell_type": "markdown",
      "metadata": {
        "id": "view-in-github",
        "colab_type": "text"
      },
      "source": [
        "<a href=\"https://colab.research.google.com/github/SoohyeonB/naver_in_crawling/blob/main/%ED%81%AC%EB%A1%A4%EB%A7%81_%EB%94%94%EC%94%A8%EB%8B%A4%EC%9C%A1%EA%B0%A4_%EB%B6%88%EB%9F%AC%EC%98%A4%EA%B8%B0_%EC%8B%A4%ED%8C%A8_%E3%85%A0%E3%85%A0.ipynb\" target=\"_parent\"><img src=\"https://colab.research.google.com/assets/colab-badge.svg\" alt=\"Open In Colab\"/></a>"
      ]
    },
    {
      "cell_type": "markdown",
      "metadata": {
        "id": "fyoUnmobC-BP"
      },
      "source": [
        "https://www.youtube.com/watch?v=8Sz8Ek46qGI&t=334s \n",
        "여러 페이지 크롤링 \n",
        "\n",
        "##TODO: 텍스트 class별로 분류하기 -> 노가다..."
      ]
    },
    {
      "cell_type": "code",
      "metadata": {
        "id": "uBxTQuS0Jp4T"
      },
      "source": [
        "import requests\n",
        "from bs4 import BeautifulSoup\n",
        "import pandas as pd\n",
        "import csv"
      ],
      "execution_count": 15,
      "outputs": []
    },
    {
      "cell_type": "code",
      "metadata": {
        "id": "5m6ZKfBlHcep"
      },
      "source": [
        "#텍스트에서 특수문자 제거하는 함수\n",
        "def clean_string(input_string):\n",
        "    characters = \"\"\"!@#$%^&*()_-+={[}]|\\;:\"‘'·<>?/., \"\"\"\n",
        "    for x in range(len(characters)):\n",
        "        output_string = input_string.replace(characters[x],\"\")\n",
        "\n",
        "    return output_string\n",
        "\n",
        "def get_post():\n",
        "  #csv파일\n",
        "  f = open(f'디씨다육갤크롤링.csv', 'w', encoding='utf-8', newline ='')\n",
        "  csvWriter = csv.writer(f)\n",
        "\n",
        "  link_df = pd.DataFrame(columns=(\"Link\", \"Title\", \"Content\"))\n",
        "  idx = 0\n",
        "  nextPage = 1\n",
        "\n",
        "  \n",
        "  #홈페이지 가져오기\n",
        "  for i in range(1, 74):\n",
        "      # 크롤링 페이지 \"첫번째 페이지\" + pageNum\n",
        "      url = 'https://gall.dcinside.com/mgallery/board/lists/?id=da6&page=' + str(nextPage)\n",
        "      response = requests.get(url)  \n",
        "      #링크가 존재하면 \n",
        "      if response.status_code == 200:\n",
        "          #html = response.text (네이버 지식인)\n",
        "          html = response.text\n",
        "          soup = BeautifulSoup(html, 'html.parser')\n",
        "          \n",
        "          #게시글 클래스 접근 \n",
        "          #table.gall_list > tbody > tr.ub-content us-post >td.gall_tit ub-word > a > href : 게시글 링크\n",
        "          # ul = soup.select_one('table.gall_list')\n",
        "          #ul = soup.select_one('tr.ub-content us-post')\n",
        "          #print(ul) # ul자체에 아무것도 없음 \n",
        "          #titles = ul.select('td') \n",
        "          try: \n",
        "            titles = soup.find('tbody').find_all('tr')\n",
        "            titles = titles.select('td.gall_tit ub-word')\n",
        "            print(titles)\n",
        "          except:\n",
        "            print(\"content 불러오는데 실패 \")\n",
        "                            \n",
        "          # print(titles)\n",
        "\n",
        "          \n",
        "  \n",
        "          #게시글\n",
        "          for title in titles:\n",
        "              title_tag = title.find('a', href=True)\n",
        "              t = title_tag.text #제목\n",
        "              post_url = title.get('href') #url\n",
        "              print(content_title)\n",
        "              print(post_url)\n",
        "\n",
        "              # t = title.get_text('a')  #제목\n",
        "              # post_url = title.get('a.href')  #게시글 url \n",
        "\n",
        "              #게시글 안으로 들어가기 \n",
        "              post = requests.get(post_url) \n",
        "              post_html = post.text\n",
        "              post_soup = BeautifulSoup(post_html, 'html.parser')\n",
        "\n",
        "              #게시글 내의 내용 갖고오기 \n",
        "              post_text = post_soup.select_one('div.write_div')\n",
        "              post_text = post_text.select('div')\n",
        "              #post_text = post_soup.find('div', {'class':'write_div'})\n",
        "              try:\n",
        "                content =  post_text.get_text()\n",
        "                content = content.replace(\"\\n\", \"\")\n",
        "\n",
        "                #특수문자 제거\n",
        "                clean_content = clean_string(content)\n",
        "                link_df.loc[idx] = [post_url, t, clean_content]\n",
        "                csvWriter.writerow([post_url, t, clean_content])\n",
        "              except AttributeError as e: \n",
        "                link_df.loc[idx] = [post_url, t, ' '] #공백넣기 \n",
        "                  \n",
        "              idx +=1 #다음게시글로 넘어가기 \n",
        "\n",
        "\n",
        "      else : \n",
        "          print(response.status_code)\n",
        "\n",
        "      nextPage +=1\n",
        "\n",
        "  \n",
        "  return link_df"
      ],
      "execution_count": 66,
      "outputs": []
    },
    {
      "cell_type": "code",
      "metadata": {
        "colab": {
          "base_uri": "https://localhost:8080/",
          "height": 342
        },
        "id": "-udj6PraHio1",
        "outputId": "d99cf391-f9f7-409d-91c9-4f2c0c03ed63"
      },
      "source": [
        "link_df = get_post()\n",
        "link_df"
      ],
      "execution_count": 67,
      "outputs": [
        {
          "output_type": "stream",
          "text": [
            "https://gall.dcinside.com/mgallery/board/lists/?id=da6&page=1\n",
            "content 불러오는데 실패 \n"
          ],
          "name": "stdout"
        },
        {
          "output_type": "error",
          "ename": "UnboundLocalError",
          "evalue": "ignored",
          "traceback": [
            "\u001b[0;31m---------------------------------------------------------------------------\u001b[0m",
            "\u001b[0;31mUnboundLocalError\u001b[0m                         Traceback (most recent call last)",
            "\u001b[0;32m<ipython-input-67-7c04c2446af3>\u001b[0m in \u001b[0;36m<module>\u001b[0;34m()\u001b[0m\n\u001b[0;32m----> 1\u001b[0;31m \u001b[0mlink_df\u001b[0m \u001b[0;34m=\u001b[0m \u001b[0mget_post\u001b[0m\u001b[0;34m(\u001b[0m\u001b[0;34m)\u001b[0m\u001b[0;34m\u001b[0m\u001b[0;34m\u001b[0m\u001b[0m\n\u001b[0m\u001b[1;32m      2\u001b[0m \u001b[0mlink_df\u001b[0m\u001b[0;34m\u001b[0m\u001b[0;34m\u001b[0m\u001b[0m\n",
            "\u001b[0;32m<ipython-input-66-5d715a80d954>\u001b[0m in \u001b[0;36mget_post\u001b[0;34m()\u001b[0m\n\u001b[1;32m     47\u001b[0m \u001b[0;34m\u001b[0m\u001b[0m\n\u001b[1;32m     48\u001b[0m           \u001b[0;31m#게시글\u001b[0m\u001b[0;34m\u001b[0m\u001b[0;34m\u001b[0m\u001b[0;34m\u001b[0m\u001b[0m\n\u001b[0;32m---> 49\u001b[0;31m           \u001b[0;32mfor\u001b[0m \u001b[0mtitle\u001b[0m \u001b[0;32min\u001b[0m \u001b[0mtitles\u001b[0m\u001b[0;34m:\u001b[0m\u001b[0;34m\u001b[0m\u001b[0;34m\u001b[0m\u001b[0m\n\u001b[0m\u001b[1;32m     50\u001b[0m               \u001b[0mtitle_tag\u001b[0m \u001b[0;34m=\u001b[0m \u001b[0mtitle\u001b[0m\u001b[0;34m.\u001b[0m\u001b[0mfind\u001b[0m\u001b[0;34m(\u001b[0m\u001b[0;34m'a'\u001b[0m\u001b[0;34m,\u001b[0m \u001b[0mhref\u001b[0m\u001b[0;34m=\u001b[0m\u001b[0;32mTrue\u001b[0m\u001b[0;34m)\u001b[0m\u001b[0;34m\u001b[0m\u001b[0;34m\u001b[0m\u001b[0m\n\u001b[1;32m     51\u001b[0m               \u001b[0mt\u001b[0m \u001b[0;34m=\u001b[0m \u001b[0mtitle_tag\u001b[0m\u001b[0;34m.\u001b[0m\u001b[0mtext\u001b[0m \u001b[0;31m#제목\u001b[0m\u001b[0;34m\u001b[0m\u001b[0;34m\u001b[0m\u001b[0m\n",
            "\u001b[0;31mUnboundLocalError\u001b[0m: local variable 'titles' referenced before assignment"
          ]
        }
      ]
    },
    {
      "cell_type": "code",
      "metadata": {
        "id": "Cwmfk11ZcJa-"
      },
      "source": [
        "#https://www.youtube.com/watch?v=1XhVvOO3DQ8\n",
        "# f = open(f'{변수명}.csv', 'w', encoding='utf-8', newline ='')\n"
      ],
      "execution_count": null,
      "outputs": []
    },
    {
      "cell_type": "code",
      "metadata": {
        "id": "X2ziuLwZKqKn"
      },
      "source": [
        ""
      ],
      "execution_count": null,
      "outputs": []
    }
  ]
}