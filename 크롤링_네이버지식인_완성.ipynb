{
  "nbformat": 4,
  "nbformat_minor": 0,
  "metadata": {
    "colab": {
      "name": "크롤링 네이버지식인 완성.ipynb",
      "provenance": [],
      "collapsed_sections": [],
      "mount_file_id": "16ZtQPIwh1lHk6BuKkkhfkO8-Hsryel3v",
      "authorship_tag": "ABX9TyPb/I5/RNCmFwZxhWA/TI0O",
      "include_colab_link": true
    },
    "kernelspec": {
      "name": "python3",
      "display_name": "Python 3"
    },
    "language_info": {
      "name": "python"
    }
  },
  "cells": [
    {
      "cell_type": "markdown",
      "metadata": {
        "id": "view-in-github",
        "colab_type": "text"
      },
      "source": [
        "<a href=\"https://colab.research.google.com/github/SoohyeonB/naver_in_crawling/blob/main/%ED%81%AC%EB%A1%A4%EB%A7%81_%EB%84%A4%EC%9D%B4%EB%B2%84%EC%A7%80%EC%8B%9D%EC%9D%B8_%EC%99%84%EC%84%B1.ipynb\" target=\"_parent\"><img src=\"https://colab.research.google.com/assets/colab-badge.svg\" alt=\"Open In Colab\"/></a>"
      ]
    },
    {
      "cell_type": "markdown",
      "metadata": {
        "id": "fyoUnmobC-BP"
      },
      "source": [
        "https://www.youtube.com/watch?v=8Sz8Ek46qGI&t=334s \n",
        "여러 페이지 크롤링 "
      ]
    },
    {
      "cell_type": "code",
      "metadata": {
        "id": "uBxTQuS0Jp4T"
      },
      "source": [
        "import requests\n",
        "from bs4 import BeautifulSoup\n",
        "import pandas as pd\n",
        "import csv"
      ],
      "execution_count": 67,
      "outputs": []
    },
    {
      "cell_type": "code",
      "metadata": {
        "id": "5m6ZKfBlHcep"
      },
      "source": [
        "def get_post():\n",
        "  #csv파일\n",
        "  f = open(f'네이버지식인크롤링.csv', 'w', encoding='utf-8', newline ='')\n",
        "  csvWriter = csv.writer(f)\n",
        "\n",
        "  link_df = pd.DataFrame(columns=(\"Link\", \"Title\", \"Content\"))\n",
        "  idx = 0\n",
        "  nextPage = 1\n",
        "  # print(link_df)\n",
        "    # csvWriter.writerow(link_df[i])\n",
        "  #홈페이지 가져오기\n",
        "  #url = 'https://kin.naver.com/search/list.naver?query=%EB%8B%A4%EC%9C%A1%EC%9D%B4+%ED%82%A4%EC%9A%B0%EA%B8%B0'\n",
        "  #url = 'https://kin.naver.com/search/list.naver?query=%EB%8B%A4%EC%9C%A1%EC%9D%B4+%ED%82%A4%EC%9A%B0%EA%B8%B0&page=' + str(nextPage)\n",
        "  #response = requests.get(url) \n",
        "\n",
        "  for i in range(1, 10):\n",
        "      url = 'https://kin.naver.com/search/list.naver?query=%EB%8B%A4%EC%9C%A1%EC%9D%B4+%ED%82%A4%EC%9A%B0%EA%B8%B0&page=' + str(nextPage)\n",
        "      response = requests.get(url)  \n",
        "      #링크가 존재하면 \n",
        "      if response.status_code == 200:\n",
        "          html = response.text\n",
        "          soup = BeautifulSoup(html, 'html.parser')\n",
        "          ul = soup.select_one('ul.basic1')\n",
        "          titles = ul.select('li > dl > dt > a')\n",
        "          links = soup.find_all('div', {'class':'question_group'})\n",
        "\n",
        "          #게시글\n",
        "          for title in titles:\n",
        "              t = title.get_text()  #제목\n",
        "              post_url = title.get('href')  #게시글 url \n",
        "              #게시글 안으로 들어가기 \n",
        "              post = requests.get(post_url) \n",
        "              post_html = post.text\n",
        "              post_soup = BeautifulSoup(post_html, 'html.parser')\n",
        "              #게시글 내의 내용 갖고오기 \n",
        "              post_text = post_soup.find('div', {'class':'c-heading__content'})\n",
        "              try:\n",
        "                content =  post_text.get_text()\n",
        "                link_df.loc[idx] = [post_url, t, content] #TODO: content 문자열 전처리 필요\n",
        "                csvWriter.writerow([post_url, t, content])\n",
        "              except AttributeError as e:\n",
        "                link_df.loc[idx] = [post_url, t, ' '] #공백넣기 \n",
        "                  \n",
        "              idx +=1 #다음게시글로 넘어가기 \n",
        "\n",
        "\n",
        "      else : \n",
        "          print(response.status_code)\n",
        "\n",
        "      nextPage +=1\n",
        "\n",
        "  \n",
        "  return link_df"
      ],
      "execution_count": 79,
      "outputs": []
    },
    {
      "cell_type": "code",
      "metadata": {
        "colab": {
          "base_uri": "https://localhost:8080/",
          "height": 422
        },
        "id": "-udj6PraHio1",
        "outputId": "614eefe1-f460-4a06-9fe0-01fd463d3342"
      },
      "source": [
        "link_df = get_post()\n",
        "link_df"
      ],
      "execution_count": 80,
      "outputs": [
        {
          "output_type": "execute_result",
          "data": {
            "text/html": [
              "<div>\n",
              "<style scoped>\n",
              "    .dataframe tbody tr th:only-of-type {\n",
              "        vertical-align: middle;\n",
              "    }\n",
              "\n",
              "    .dataframe tbody tr th {\n",
              "        vertical-align: top;\n",
              "    }\n",
              "\n",
              "    .dataframe thead th {\n",
              "        text-align: right;\n",
              "    }\n",
              "</style>\n",
              "<table border=\"1\" class=\"dataframe\">\n",
              "  <thead>\n",
              "    <tr style=\"text-align: right;\">\n",
              "      <th></th>\n",
              "      <th>Link</th>\n",
              "      <th>Title</th>\n",
              "      <th>Content</th>\n",
              "    </tr>\n",
              "  </thead>\n",
              "  <tbody>\n",
              "    <tr>\n",
              "      <th>0</th>\n",
              "      <td>https://kin.naver.com/qna/detail.naver?d1id=8&amp;...</td>\n",
              "      <td>다육이 키우기</td>\n",
              "      <td>\\n\\t\\t\\t\\t\\t\\t다육이 상태가 왜 이런건가요 ㅠㅠ 수분이 부족한걸까요? 물...</td>\n",
              "    </tr>\n",
              "    <tr>\n",
              "      <th>1</th>\n",
              "      <td>https://kin.naver.com/qna/detail.naver?d1id=11...</td>\n",
              "      <td>다육이 키우기</td>\n",
              "      <td>\\n\\t\\t\\t\\t\\t\\t다육이를 키우고 있는데 화분이 진짜 나무 거든요 근데 그냥...</td>\n",
              "    </tr>\n",
              "    <tr>\n",
              "      <th>2</th>\n",
              "      <td>https://kin.naver.com/qna/detail.naver?d1id=8&amp;...</td>\n",
              "      <td>다육이 상태 / 다육이 키우기</td>\n",
              "      <td>\\n\\t\\t\\t\\t\\t\\t다육이 어디 아픈건가요?넘 말라서 오늘 물 주긴 했어요!이...</td>\n",
              "    </tr>\n",
              "    <tr>\n",
              "      <th>3</th>\n",
              "      <td>https://kin.naver.com/qna/detail.naver?d1id=11...</td>\n",
              "      <td>다육이 키우기</td>\n",
              "      <td>\\n\\t\\t\\t\\t\\t\\t다육이 떨어진 거 남는 화분에 던져놨는데 자랏습니다.새끼 ...</td>\n",
              "    </tr>\n",
              "    <tr>\n",
              "      <th>4</th>\n",
              "      <td>https://kin.naver.com/qna/detail.naver?d1id=8&amp;...</td>\n",
              "      <td>다육이 키우기!</td>\n",
              "      <td>\\n\\t\\t\\t\\t\\t\\t다육이 데려왔어요!1. 무슨 다육인지2. 이 다육이 키우는...</td>\n",
              "    </tr>\n",
              "    <tr>\n",
              "      <th>...</th>\n",
              "      <td>...</td>\n",
              "      <td>...</td>\n",
              "      <td>...</td>\n",
              "    </tr>\n",
              "    <tr>\n",
              "      <th>85</th>\n",
              "      <td>https://kin.naver.com/qna/detail.naver?d1id=8&amp;...</td>\n",
              "      <td>겨울철 다육이 키우기 도움을 받고...</td>\n",
              "      <td>\\n9월쯤 우리집에 온 다육이 종합바구니입니다. 올때부터 웃자람 현상이 조금 있던 ...</td>\n",
              "    </tr>\n",
              "    <tr>\n",
              "      <th>86</th>\n",
              "      <td>https://kin.naver.com/qna/detail.naver?d1id=11...</td>\n",
              "      <td>다육이 키우기</td>\n",
              "      <td>\\n\\t\\t\\t\\t\\t\\t다육이가 이게 지금 시들은 건가요?? ㅠㅠ\\n</td>\n",
              "    </tr>\n",
              "    <tr>\n",
              "      <th>87</th>\n",
              "      <td>https://kin.naver.com/qna/detail.naver?d1id=8&amp;...</td>\n",
              "      <td>칼큘러스 다육이 키우기 칼큘러스의...</td>\n",
              "      <td>\\n 안녕하세요 세상의 식물박사님들께 도움좀 구하려고합니다2달 전쯤에 칼큘러스가 키...</td>\n",
              "    </tr>\n",
              "    <tr>\n",
              "      <th>88</th>\n",
              "      <td>https://kin.naver.com/qna/detail.naver?d1id=8&amp;...</td>\n",
              "      <td>보초(다육이) 키우기</td>\n",
              "      <td>\\n\\t\\t\\t\\t\\t\\t보초라는 다육식물을 키우고 있습니다.. 사진처럼 줄기(?)...</td>\n",
              "    </tr>\n",
              "    <tr>\n",
              "      <th>89</th>\n",
              "      <td>https://kin.naver.com/qna/detail.naver?d1id=8&amp;...</td>\n",
              "      <td>다육이 키우기</td>\n",
              "      <td>\\n\\t\\t\\t\\t\\t\\t어떻게 다육이를 키우나여?\\n\\t\\t\\t\\t\\t</td>\n",
              "    </tr>\n",
              "  </tbody>\n",
              "</table>\n",
              "<p>90 rows × 3 columns</p>\n",
              "</div>"
            ],
            "text/plain": [
              "                                                 Link  ...                                            Content\n",
              "0   https://kin.naver.com/qna/detail.naver?d1id=8&...  ...  \\n\\t\\t\\t\\t\\t\\t다육이 상태가 왜 이런건가요 ㅠㅠ 수분이 부족한걸까요? 물...\n",
              "1   https://kin.naver.com/qna/detail.naver?d1id=11...  ...  \\n\\t\\t\\t\\t\\t\\t다육이를 키우고 있는데 화분이 진짜 나무 거든요 근데 그냥...\n",
              "2   https://kin.naver.com/qna/detail.naver?d1id=8&...  ...  \\n\\t\\t\\t\\t\\t\\t다육이 어디 아픈건가요?넘 말라서 오늘 물 주긴 했어요!이...\n",
              "3   https://kin.naver.com/qna/detail.naver?d1id=11...  ...  \\n\\t\\t\\t\\t\\t\\t다육이 떨어진 거 남는 화분에 던져놨는데 자랏습니다.새끼 ...\n",
              "4   https://kin.naver.com/qna/detail.naver?d1id=8&...  ...  \\n\\t\\t\\t\\t\\t\\t다육이 데려왔어요!1. 무슨 다육인지2. 이 다육이 키우는...\n",
              "..                                                ...  ...                                                ...\n",
              "85  https://kin.naver.com/qna/detail.naver?d1id=8&...  ...  \\n9월쯤 우리집에 온 다육이 종합바구니입니다. 올때부터 웃자람 현상이 조금 있던 ...\n",
              "86  https://kin.naver.com/qna/detail.naver?d1id=11...  ...            \\n\\t\\t\\t\\t\\t\\t다육이가 이게 지금 시들은 건가요?? ㅠㅠ\\n\n",
              "87  https://kin.naver.com/qna/detail.naver?d1id=8&...  ...  \\n 안녕하세요 세상의 식물박사님들께 도움좀 구하려고합니다2달 전쯤에 칼큘러스가 키...\n",
              "88  https://kin.naver.com/qna/detail.naver?d1id=8&...  ...  \\n\\t\\t\\t\\t\\t\\t보초라는 다육식물을 키우고 있습니다.. 사진처럼 줄기(?)...\n",
              "89  https://kin.naver.com/qna/detail.naver?d1id=8&...  ...           \\n\\t\\t\\t\\t\\t\\t어떻게 다육이를 키우나여?\\n\\t\\t\\t\\t\\t\n",
              "\n",
              "[90 rows x 3 columns]"
            ]
          },
          "metadata": {
            "tags": []
          },
          "execution_count": 80
        }
      ]
    },
    {
      "cell_type": "code",
      "metadata": {
        "id": "Cwmfk11ZcJa-",
        "colab": {
          "base_uri": "https://localhost:8080/"
        },
        "outputId": "5402c787-5959-40d6-e4e8-726c0416e459"
      },
      "source": [
        "#https://www.youtube.com/watch?v=1XhVvOO3DQ8\n",
        "# f = open(f'{변수명}.csv', 'w', encoding='utf-8', newline ='')\n",
        "f = open(f'네이버지식인크롤링.csv', 'w', encoding='utf-8', newline ='')\n",
        "csvWriter = csv.writer(f)\n",
        "for i in link_df:\n",
        "  print('저장하는 중 ')\n",
        "  csvWriter.writerow(i)\n",
        "\n",
        "f.close()\n",
        "\n",
        "print('완료')\n"
      ],
      "execution_count": 72,
      "outputs": [
        {
          "output_type": "stream",
          "text": [
            "저장하는 중 \n",
            "저장하는 중 \n",
            "저장하는 중 \n",
            "완료\n"
          ],
          "name": "stdout"
        }
      ]
    },
    {
      "cell_type": "code",
      "metadata": {
        "id": "X2ziuLwZKqKn"
      },
      "source": [
        ""
      ],
      "execution_count": null,
      "outputs": []
    }
  ]
}